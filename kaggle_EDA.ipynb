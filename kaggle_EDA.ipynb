{
 "cells": [
  {
   "cell_type": "code",
   "execution_count": 1,
   "id": "53c1c78d",
   "metadata": {
    "execution": {
     "iopub.execute_input": "2022-03-28T00:30:31.618502Z",
     "iopub.status.busy": "2022-03-28T00:30:31.617254Z",
     "iopub.status.idle": "2022-03-28T00:30:31.626334Z",
     "shell.execute_reply": "2022-03-28T00:30:31.626838Z"
    },
    "papermill": {
     "duration": 0.017115,
     "end_time": "2022-03-28T00:30:31.627103",
     "exception": false,
     "start_time": "2022-03-28T00:30:31.609988",
     "status": "completed"
    },
    "tags": []
   },
   "outputs": [],
   "source": [
    "# importing libraries\n",
    "import numpy as np \n",
    "import pandas as pd "
   ]
  }
 ],
 "metadata": {
  "kernelspec": {
   "display_name": "Python 3",
   "language": "python",
   "name": "python3"
  },
  "language_info": {
   "codemirror_mode": {
    "name": "ipython",
    "version": 3
   },
   "file_extension": ".py",
   "mimetype": "text/x-python",
   "name": "python",
   "nbconvert_exporter": "python",
   "pygments_lexer": "ipython3",
   "version": "3.7.12"
  },
  "papermill": {
   "default_parameters": {},
   "duration": 10.145401,
   "end_time": "2022-03-28T00:30:32.240799",
   "environment_variables": {},
   "exception": null,
   "input_path": "__notebook__.ipynb",
   "output_path": "__notebook__.ipynb",
   "parameters": {},
   "start_time": "2022-03-28T00:30:22.095398",
   "version": "2.3.3"
  }
 },
 "nbformat": 4,
 "nbformat_minor": 5
}

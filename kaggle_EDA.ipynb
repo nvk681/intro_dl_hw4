{
 "cells": [
  {
   "cell_type": "code",
   "execution_count": 2,
   "id": "53c1c78d",
   "metadata": {
    "execution": {
     "iopub.execute_input": "2022-03-28T00:30:31.618502Z",
     "iopub.status.busy": "2022-03-28T00:30:31.617254Z",
     "iopub.status.idle": "2022-03-28T00:30:31.626334Z",
     "shell.execute_reply": "2022-03-28T00:30:31.626838Z"
    },
    "papermill": {
     "duration": 0.017115,
     "end_time": "2022-03-28T00:30:31.627103",
     "exception": false,
     "start_time": "2022-03-28T00:30:31.609988",
     "status": "completed"
    },
    "tags": []
   },
   "outputs": [],
   "source": [
    "# importing libraries\n",
    "import os\n",
    "import pandas as pd\n",
    "from glob import glob\n",
    "import numpy as np\n",
    "import matplotlib.pyplot as plt\n",
    "# import seaborn as sns\n",
    "from pathlib import Path"
   ]
  },
  {
   "cell_type": "code",
   "execution_count": 6,
   "id": "f1d2a809",
   "metadata": {},
   "outputs": [],
   "source": [
    "#setting up EVN\n",
    "environment = \"local\"# \"kaggle\" or \"local\""
   ]
  },
  {
   "cell_type": "code",
   "execution_count": 10,
   "id": "9362ea15",
   "metadata": {},
   "outputs": [],
   "source": [
    "%%capture\n",
    "#%%capture hides the output of this from being printed. \n",
    "\n",
    "path_for_data = \"./csc4851-homework4/\" if environment == \"local\" else \"/kaggle/input\"\n",
    "\n",
    "for dirname, _, filenames in os.walk(path_for_data):\n",
    "    for filename in filenames:\n",
    "        print(os.path.join(dirname, filename))"
   ]
  },
  {
   "cell_type": "code",
   "execution_count": 18,
   "id": "190af27c",
   "metadata": {},
   "outputs": [
    {
     "name": "stdout",
     "output_type": "stream",
     "text": [
      "No of images to train:  58388\n",
      "No of images to test:  2000\n",
      "No of images to validate:  2000\n"
     ]
    }
   ],
   "source": [
    "#Reading all the CSV files\n",
    "# bird_latin_names = pd.read_csv(path_for_data + 'birds latin names.csv')\n",
    "birds = pd.read_csv(path_for_data + 'birds_400/birds.csv')\n",
    "class_dict = pd.read_csv(path_for_data + 'birds_400/class_dict.csv')\n",
    "submission = pd.read_csv(path_for_data + 'birds_400/submission.csv')\n",
    "\n",
    "#Pool all the names of files availible\n",
    "train_images = glob(path_for_data + \"birds_400/train/*/*.jpg\")\n",
    "test_images = glob(path_for_data + \"birds_400/test/*/*.jpg\")\n",
    "validation_images = glob(path_for_data + \"birds_400/valid/*/*.jpg\")\n",
    "\n",
    "print(\"No of images to train: \", len(train_images))\n",
    "print(\"No of images to test: \", len(test_images))\n",
    "print(\"No of images to validate: \", len(validation_images))\n"
   ]
  },
  {
   "cell_type": "code",
   "execution_count": 21,
   "id": "11244994",
   "metadata": {},
   "outputs": [
    {
     "name": "stdout",
     "output_type": "stream",
     "text": [
      "birds dimensions:  (62388, 4)\n",
      "birds column names:  ['class index', 'filepaths', 'labels', 'data set']\n",
      "class_dict dimensions:  (400, 6)\n",
      "class_dict column names:  ['class_index', 'class', 'height', 'width', 'scale by', 'Offset']\n",
      "submission dimensions:  (400, 2)\n",
      "submission column names:  ['id', 'birds']\n",
      "\n"
     ]
    }
   ],
   "source": [
    "#Show the dimensions of the csv data.\n",
    "print('birds dimensions: ', birds.shape)\n",
    "print('birds column names: ', birds.columns.values.tolist())\n",
    "print('class_dict dimensions: ', class_dict.shape)\n",
    "print('class_dict column names: ', class_dict.columns.values.tolist())\n",
    "print('submission dimensions: ', submission.shape)\n",
    "print('submission column names: ', submission.columns.values.tolist())"
   ]
  }
 ],
 "metadata": {
  "kernelspec": {
   "display_name": "Python 3",
   "language": "python",
   "name": "python3"
  },
  "language_info": {
   "codemirror_mode": {
    "name": "ipython",
    "version": 3
   },
   "file_extension": ".py",
   "mimetype": "text/x-python",
   "name": "python",
   "nbconvert_exporter": "python",
   "pygments_lexer": "ipython3",
   "version": "3.8.9"
  },
  "papermill": {
   "default_parameters": {},
   "duration": 10.145401,
   "end_time": "2022-03-28T00:30:32.240799",
   "environment_variables": {},
   "exception": null,
   "input_path": "__notebook__.ipynb",
   "output_path": "__notebook__.ipynb",
   "parameters": {},
   "start_time": "2022-03-28T00:30:22.095398",
   "version": "2.3.3"
  }
 },
 "nbformat": 4,
 "nbformat_minor": 5
}
